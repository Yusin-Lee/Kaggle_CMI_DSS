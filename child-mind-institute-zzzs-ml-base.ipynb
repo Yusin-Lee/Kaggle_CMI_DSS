{
 "cells": [
  {
   "cell_type": "code",
   "execution_count": 1,
   "id": "2bb6cebe",
   "metadata": {
    "_cell_guid": "b1076dfc-b9ad-4769-8c92-a6c4dae69d19",
    "_uuid": "8f2839f25d086af736a60e9eeb907d3b93b6e0e5",
    "execution": {
     "iopub.execute_input": "2023-10-19T03:31:29.015211Z",
     "iopub.status.busy": "2023-10-19T03:31:29.014356Z",
     "iopub.status.idle": "2023-10-19T03:31:35.466538Z",
     "shell.execute_reply": "2023-10-19T03:31:35.465701Z"
    },
    "papermill": {
     "duration": 6.459955,
     "end_time": "2023-10-19T03:31:35.468819",
     "exception": false,
     "start_time": "2023-10-19T03:31:29.008864",
     "status": "completed"
    },
    "tags": []
   },
   "outputs": [],
   "source": [
    "import numpy as np\n",
    "import pandas as pd\n",
    "import torch\n",
    "import gc\n",
    "from sklearn.metrics import f1_score,accuracy_score\n",
    "import matplotlib.pyplot as plt\n",
    "from tqdm import tqdm\n",
    "import copy\n",
    "import lightgbm\n",
    "from sklearn.metrics import f1_score, accuracy_score\n",
    "import warnings\n",
    "warnings.filterwarnings(\"ignore\")\n",
    "\n",
    "device = 'cuda' if torch.cuda.is_available() else 'cpu'"
   ]
  },
  {
   "cell_type": "code",
   "execution_count": 2,
   "id": "1b4021ee",
   "metadata": {
    "execution": {
     "iopub.execute_input": "2023-10-19T03:31:35.479433Z",
     "iopub.status.busy": "2023-10-19T03:31:35.479095Z",
     "iopub.status.idle": "2023-10-19T03:31:35.486712Z",
     "shell.execute_reply": "2023-10-19T03:31:35.485739Z"
    },
    "papermill": {
     "duration": 0.014752,
     "end_time": "2023-10-19T03:31:35.488960",
     "exception": false,
     "start_time": "2023-10-19T03:31:35.474208",
     "status": "completed"
    },
    "tags": []
   },
   "outputs": [],
   "source": [
    "def data_preprocessing(df, window):\n",
    "    rog_args = {'window' : window, 'min_periods':2}\n",
    "    df[f'anglez_bf_{window}_std'] = df.anglez.rolling(**rog_args).std().round(4)\n",
    "    df[f'anglez_at_{window}_std'] = df.anglez.iloc[::-1].rolling(**rog_args).std().round(4).sort_index()\n",
    "    df[f'anglez_bf_{window}_mean'] = df.anglez.rolling(**rog_args).mean().round(4)\n",
    "    df[f'anglez_at_{window}_mean'] = df.anglez.iloc[::-1].rolling(**rog_args).mean().round(4).sort_index()\n",
    "    df[f'enmo_bf_{window}_std'] = df.enmo.rolling(**rog_args).std().round(4)\n",
    "    df[f'enmo_at_{window}_std'] = df.enmo.iloc[::-1].rolling(**rog_args).std().round(4).sort_index()\n",
    "    df[f'enmo_bf_{window}_mean'] = df.enmo.rolling(**rog_args).mean().round(4)\n",
    "    df[f'enmo_at_{window}_mean'] = df.enmo.iloc[::-1].rolling(**rog_args).mean().round(4).sort_index()\n",
    "    df.dropna(inplace=True)\n",
    "    df.reset_index(drop=True,inplace=True)\n",
    "    return df"
   ]
  },
  {
   "cell_type": "code",
   "execution_count": 3,
   "id": "92a81331",
   "metadata": {
    "execution": {
     "iopub.execute_input": "2023-10-19T03:31:35.497558Z",
     "iopub.status.busy": "2023-10-19T03:31:35.496776Z",
     "iopub.status.idle": "2023-10-19T03:31:37.476238Z",
     "shell.execute_reply": "2023-10-19T03:31:37.475251Z"
    },
    "papermill": {
     "duration": 1.986241,
     "end_time": "2023-10-19T03:31:37.478633",
     "exception": false,
     "start_time": "2023-10-19T03:31:35.492392",
     "status": "completed"
    },
    "tags": []
   },
   "outputs": [],
   "source": [
    "series_ids = pd.read_parquet('/kaggle/input/zzzs-lightweight-training-dataset-target/Zzzs_train.parquet', columns=['series_id'])\n",
    "series_ids = series_ids.series_id.unique()"
   ]
  },
  {
   "cell_type": "code",
   "execution_count": 4,
   "id": "ca1c9908",
   "metadata": {
    "execution": {
     "iopub.execute_input": "2023-10-19T03:31:37.487286Z",
     "iopub.status.busy": "2023-10-19T03:31:37.486823Z",
     "iopub.status.idle": "2023-10-19T03:32:27.091462Z",
     "shell.execute_reply": "2023-10-19T03:32:27.090434Z"
    },
    "papermill": {
     "duration": 49.611483,
     "end_time": "2023-10-19T03:32:27.093798",
     "exception": false,
     "start_time": "2023-10-19T03:31:37.482315",
     "status": "completed"
    },
    "tags": []
   },
   "outputs": [
    {
     "name": "stderr",
     "output_type": "stream",
     "text": [
      "100%|██████████| 35/35 [00:46<00:00,  1.33s/it]\n"
     ]
    }
   ],
   "source": [
    "train_series_ids = series_ids\n",
    "train_list = []\n",
    "window_list = [60, 360, 720] # 5m, 30m, 1h\n",
    "for _id in tqdm(train_series_ids):\n",
    "    train_df_tmp = pd.read_parquet(\"/kaggle/input/zzzs-lightweight-training-dataset-target/Zzzs_train.parquet\", filters=[('series_id','=',_id)], columns = ['anglez', 'enmo', 'awake'])\n",
    "    train_df_tmp.anglez = (train_df_tmp.anglez + 8.8104) / 35.5218\n",
    "    train_df_tmp.enmo = (train_df_tmp.enmo - 0.0413) / 0.1018\n",
    "    for window in window_list:\n",
    "        train_df_tmp = data_preprocessing(train_df_tmp, window)\n",
    "    train_list.append(train_df_tmp)\n",
    "\n",
    "train = pd.concat(train_list, ignore_index=True)\n",
    "train_x = train.drop('awake',axis = 1)\n",
    "train_y = train[['awake']]\n",
    "del train, train_list"
   ]
  },
  {
   "cell_type": "code",
   "execution_count": 5,
   "id": "a0efd1c7",
   "metadata": {
    "execution": {
     "iopub.execute_input": "2023-10-19T03:32:27.106290Z",
     "iopub.status.busy": "2023-10-19T03:32:27.105654Z",
     "iopub.status.idle": "2023-10-19T03:32:27.111505Z",
     "shell.execute_reply": "2023-10-19T03:32:27.110507Z"
    },
    "papermill": {
     "duration": 0.014185,
     "end_time": "2023-10-19T03:32:27.113497",
     "exception": false,
     "start_time": "2023-10-19T03:32:27.099312",
     "status": "completed"
    },
    "tags": []
   },
   "outputs": [],
   "source": [
    "# valid_series_ids = series_ids[31:]\n",
    "# valid_list = []\n",
    "# for _id in tqdm(valid_series_ids):\n",
    "#     valid_df_tmp = pd.read_parquet(\"/kaggle/input/zzzs-lightweight-training-dataset-target/Zzzs_train.parquet\", filters=[('series_id','=',_id)], columns = ['anglez', 'enmo', 'awake'])\n",
    "#     valid_df_tmp.anglez = (valid_df_tmp.anglez + 8.8104) / 35.5218\n",
    "#     valid_df_tmp.enmo = (valid_df_tmp.enmo - 0.0413) / 0.1018\n",
    "#     for window in window_list:\n",
    "#         valid_df_tmp = data_preprocessing(valid_df_tmp, window)\n",
    "#     valid_list.append(valid_df_tmp)\n",
    "\n",
    "# valid = pd.concat(valid_list, ignore_index=True)\n",
    "# valid_x = valid.drop('awake',axis = 1)\n",
    "# valid_y = valid[['awake']]\n",
    "# del valid, valid_list"
   ]
  },
  {
   "cell_type": "code",
   "execution_count": 6,
   "id": "45dbe622",
   "metadata": {
    "execution": {
     "iopub.execute_input": "2023-10-19T03:32:27.125473Z",
     "iopub.status.busy": "2023-10-19T03:32:27.125142Z",
     "iopub.status.idle": "2023-10-19T03:33:31.561476Z",
     "shell.execute_reply": "2023-10-19T03:33:31.560442Z"
    },
    "papermill": {
     "duration": 64.450212,
     "end_time": "2023-10-19T03:33:31.569102",
     "exception": false,
     "start_time": "2023-10-19T03:32:27.118890",
     "status": "completed"
    },
    "tags": []
   },
   "outputs": [
    {
     "data": {
      "text/html": [
       "<style>#sk-container-id-1 {color: black;background-color: white;}#sk-container-id-1 pre{padding: 0;}#sk-container-id-1 div.sk-toggleable {background-color: white;}#sk-container-id-1 label.sk-toggleable__label {cursor: pointer;display: block;width: 100%;margin-bottom: 0;padding: 0.3em;box-sizing: border-box;text-align: center;}#sk-container-id-1 label.sk-toggleable__label-arrow:before {content: \"▸\";float: left;margin-right: 0.25em;color: #696969;}#sk-container-id-1 label.sk-toggleable__label-arrow:hover:before {color: black;}#sk-container-id-1 div.sk-estimator:hover label.sk-toggleable__label-arrow:before {color: black;}#sk-container-id-1 div.sk-toggleable__content {max-height: 0;max-width: 0;overflow: hidden;text-align: left;background-color: #f0f8ff;}#sk-container-id-1 div.sk-toggleable__content pre {margin: 0.2em;color: black;border-radius: 0.25em;background-color: #f0f8ff;}#sk-container-id-1 input.sk-toggleable__control:checked~div.sk-toggleable__content {max-height: 200px;max-width: 100%;overflow: auto;}#sk-container-id-1 input.sk-toggleable__control:checked~label.sk-toggleable__label-arrow:before {content: \"▾\";}#sk-container-id-1 div.sk-estimator input.sk-toggleable__control:checked~label.sk-toggleable__label {background-color: #d4ebff;}#sk-container-id-1 div.sk-label input.sk-toggleable__control:checked~label.sk-toggleable__label {background-color: #d4ebff;}#sk-container-id-1 input.sk-hidden--visually {border: 0;clip: rect(1px 1px 1px 1px);clip: rect(1px, 1px, 1px, 1px);height: 1px;margin: -1px;overflow: hidden;padding: 0;position: absolute;width: 1px;}#sk-container-id-1 div.sk-estimator {font-family: monospace;background-color: #f0f8ff;border: 1px dotted black;border-radius: 0.25em;box-sizing: border-box;margin-bottom: 0.5em;}#sk-container-id-1 div.sk-estimator:hover {background-color: #d4ebff;}#sk-container-id-1 div.sk-parallel-item::after {content: \"\";width: 100%;border-bottom: 1px solid gray;flex-grow: 1;}#sk-container-id-1 div.sk-label:hover label.sk-toggleable__label {background-color: #d4ebff;}#sk-container-id-1 div.sk-serial::before {content: \"\";position: absolute;border-left: 1px solid gray;box-sizing: border-box;top: 0;bottom: 0;left: 50%;z-index: 0;}#sk-container-id-1 div.sk-serial {display: flex;flex-direction: column;align-items: center;background-color: white;padding-right: 0.2em;padding-left: 0.2em;position: relative;}#sk-container-id-1 div.sk-item {position: relative;z-index: 1;}#sk-container-id-1 div.sk-parallel {display: flex;align-items: stretch;justify-content: center;background-color: white;position: relative;}#sk-container-id-1 div.sk-item::before, #sk-container-id-1 div.sk-parallel-item::before {content: \"\";position: absolute;border-left: 1px solid gray;box-sizing: border-box;top: 0;bottom: 0;left: 50%;z-index: -1;}#sk-container-id-1 div.sk-parallel-item {display: flex;flex-direction: column;z-index: 1;position: relative;background-color: white;}#sk-container-id-1 div.sk-parallel-item:first-child::after {align-self: flex-end;width: 50%;}#sk-container-id-1 div.sk-parallel-item:last-child::after {align-self: flex-start;width: 50%;}#sk-container-id-1 div.sk-parallel-item:only-child::after {width: 0;}#sk-container-id-1 div.sk-dashed-wrapped {border: 1px dashed gray;margin: 0 0.4em 0.5em 0.4em;box-sizing: border-box;padding-bottom: 0.4em;background-color: white;}#sk-container-id-1 div.sk-label label {font-family: monospace;font-weight: bold;display: inline-block;line-height: 1.2em;}#sk-container-id-1 div.sk-label-container {text-align: center;}#sk-container-id-1 div.sk-container {/* jupyter's `normalize.less` sets `[hidden] { display: none; }` but bootstrap.min.css set `[hidden] { display: none !important; }` so we also need the `!important` here to be able to override the default hidden behavior on the sphinx rendered scikit-learn.org. See: https://github.com/scikit-learn/scikit-learn/issues/21755 */display: inline-block !important;position: relative;}#sk-container-id-1 div.sk-text-repr-fallback {display: none;}</style><div id=\"sk-container-id-1\" class=\"sk-top-container\"><div class=\"sk-text-repr-fallback\"><pre>LGBMClassifier(learning_rate=0.05, max_depth=5, n_estimators=60,\n",
       "               random_state=42)</pre><b>In a Jupyter environment, please rerun this cell to show the HTML representation or trust the notebook. <br />On GitHub, the HTML representation is unable to render, please try loading this page with nbviewer.org.</b></div><div class=\"sk-container\" hidden><div class=\"sk-item\"><div class=\"sk-estimator sk-toggleable\"><input class=\"sk-toggleable__control sk-hidden--visually\" id=\"sk-estimator-id-1\" type=\"checkbox\" checked><label for=\"sk-estimator-id-1\" class=\"sk-toggleable__label sk-toggleable__label-arrow\">LGBMClassifier</label><div class=\"sk-toggleable__content\"><pre>LGBMClassifier(learning_rate=0.05, max_depth=5, n_estimators=60,\n",
       "               random_state=42)</pre></div></div></div></div></div>"
      ],
      "text/plain": [
       "LGBMClassifier(learning_rate=0.05, max_depth=5, n_estimators=60,\n",
       "               random_state=42)"
      ]
     },
     "execution_count": 6,
     "metadata": {},
     "output_type": "execute_result"
    }
   ],
   "source": [
    "model = lightgbm.LGBMClassifier(random_state=42, max_depth=5,learning_rate=0.05, n_estimators=60)\n",
    "model.fit(train_x,train_y, verbose=1) # eval_set = (valid_x,valid_y), eval_metric='auc',"
   ]
  },
  {
   "cell_type": "code",
   "execution_count": 7,
   "id": "1a9899b6",
   "metadata": {
    "execution": {
     "iopub.execute_input": "2023-10-19T03:33:31.581417Z",
     "iopub.status.busy": "2023-10-19T03:33:31.581026Z",
     "iopub.status.idle": "2023-10-19T03:33:31.585388Z",
     "shell.execute_reply": "2023-10-19T03:33:31.584326Z"
    },
    "papermill": {
     "duration": 0.012885,
     "end_time": "2023-10-19T03:33:31.587378",
     "exception": false,
     "start_time": "2023-10-19T03:33:31.574493",
     "status": "completed"
    },
    "tags": []
   },
   "outputs": [],
   "source": [
    "# preds = model.predict(valid_x)"
   ]
  },
  {
   "cell_type": "code",
   "execution_count": 8,
   "id": "0ede884e",
   "metadata": {
    "execution": {
     "iopub.execute_input": "2023-10-19T03:33:31.601281Z",
     "iopub.status.busy": "2023-10-19T03:33:31.600692Z",
     "iopub.status.idle": "2023-10-19T03:33:31.604651Z",
     "shell.execute_reply": "2023-10-19T03:33:31.603984Z"
    },
    "papermill": {
     "duration": 0.013431,
     "end_time": "2023-10-19T03:33:31.606425",
     "exception": false,
     "start_time": "2023-10-19T03:33:31.592994",
     "status": "completed"
    },
    "tags": []
   },
   "outputs": [],
   "source": [
    "# print('f1_score : ',f1_score(valid_y.values, preds))\n",
    "# print('accuracy :' , accuracy_score(valid_y.values, preds))"
   ]
  },
  {
   "cell_type": "code",
   "execution_count": 9,
   "id": "52a3289d",
   "metadata": {
    "execution": {
     "iopub.execute_input": "2023-10-19T03:33:31.619236Z",
     "iopub.status.busy": "2023-10-19T03:33:31.618444Z",
     "iopub.status.idle": "2023-10-19T03:33:31.622689Z",
     "shell.execute_reply": "2023-10-19T03:33:31.622068Z"
    },
    "papermill": {
     "duration": 0.012625,
     "end_time": "2023-10-19T03:33:31.624525",
     "exception": false,
     "start_time": "2023-10-19T03:33:31.611900",
     "status": "completed"
    },
    "tags": []
   },
   "outputs": [],
   "source": [
    "# onset : 19 ~ 03 -> 04 ~ 18 not_normal\n",
    "# wakeup : 04 ~ 11 -> 00 ~ 03, 12 ~ 23 not_noraml\n",
    "# 00시 ~ 06시 -> 이전 날짜로 계산"
   ]
  },
  {
   "cell_type": "code",
   "execution_count": 10,
   "id": "d726d0a4",
   "metadata": {
    "execution": {
     "iopub.execute_input": "2023-10-19T03:33:31.637361Z",
     "iopub.status.busy": "2023-10-19T03:33:31.636641Z",
     "iopub.status.idle": "2023-10-19T03:33:31.647323Z",
     "shell.execute_reply": "2023-10-19T03:33:31.646472Z"
    },
    "papermill": {
     "duration": 0.019585,
     "end_time": "2023-10-19T03:33:31.649478",
     "exception": false,
     "start_time": "2023-10-19T03:33:31.629893",
     "status": "completed"
    },
    "tags": []
   },
   "outputs": [],
   "source": [
    "def get_events(_id, model,file_root = None):\n",
    "    test = pd.read_parquet(f\"{file_root}\", filters=[('series_id','=',_id)])\n",
    "    test['timestamp'] = pd.to_datetime(test['timestamp']).apply(lambda t: t.tz_localize(None))\n",
    "    test['date'] = test['timestamp'].dt.date\n",
    "    test['hour'] = test['timestamp'].dt.hour\n",
    "    test.anglez = (test.anglez + 8.8104) / 35.5218\n",
    "    test.enmo = (test.enmo - 0.0413) / 0.1018\n",
    "    for window in window_list:\n",
    "        test = data_preprocessing(test,window)\n",
    "    test.dropna(inplace=True)\n",
    "    test.reset_index(drop=True,inplace=True)\n",
    "    test_x = test[train_x.columns]\n",
    "    preds, probs = model.predict(test_x), model.predict_proba(test_x)[:, 1]\n",
    "    test['prediction'] = preds\n",
    "    test['prediction'] = test['prediction'].rolling(360, center=True).median()\n",
    "    test['probability'] = probs\n",
    "    test = test[test['prediction']!=2]\n",
    "    test.loc[test['prediction']==0, 'probability'] = 1-test.loc[test['prediction']==0, 'probability']\n",
    "    test['score'] = test['probability'].rolling(60*12*5, center=True, min_periods=10).mean().bfill().ffill()\n",
    "    test['pred_diff'] = test['prediction'].diff()\n",
    "    test['event'] = test['pred_diff'].replace({1:'wakeup', -1:'onset', 0:np.nan})\n",
    "    test.loc[test.hour.isin([0,1,2,3,4,5,6]),'date'] = test.loc[test.hour.isin([0,1,2,3,4,5,6]),'date'] + pd.Timedelta(days=-1)\n",
    "    test_wakeup = test[test['event']=='wakeup'].groupby(test['timestamp'].dt.date).agg('first')\n",
    "    test_onset = test[test['event']=='onset'].groupby(test['date']).agg('last')\n",
    "    test = pd.concat([test_wakeup, test_onset], ignore_index=True).sort_values('timestamp')\n",
    "    return test"
   ]
  },
  {
   "cell_type": "code",
   "execution_count": 11,
   "id": "8d90e130",
   "metadata": {
    "execution": {
     "iopub.execute_input": "2023-10-19T03:33:31.662849Z",
     "iopub.status.busy": "2023-10-19T03:33:31.662173Z",
     "iopub.status.idle": "2023-10-19T03:33:31.880673Z",
     "shell.execute_reply": "2023-10-19T03:33:31.879548Z"
    },
    "papermill": {
     "duration": 0.227753,
     "end_time": "2023-10-19T03:33:31.882851",
     "exception": false,
     "start_time": "2023-10-19T03:33:31.655098",
     "status": "completed"
    },
    "tags": []
   },
   "outputs": [
    {
     "data": {
      "text/html": [
       "<div>\n",
       "<style scoped>\n",
       "    .dataframe tbody tr th:only-of-type {\n",
       "        vertical-align: middle;\n",
       "    }\n",
       "\n",
       "    .dataframe tbody tr th {\n",
       "        vertical-align: top;\n",
       "    }\n",
       "\n",
       "    .dataframe thead th {\n",
       "        text-align: right;\n",
       "    }\n",
       "</style>\n",
       "<table border=\"1\" class=\"dataframe\">\n",
       "  <thead>\n",
       "    <tr style=\"text-align: right;\">\n",
       "      <th></th>\n",
       "      <th>row_id</th>\n",
       "      <th>series_id</th>\n",
       "      <th>step</th>\n",
       "      <th>event</th>\n",
       "      <th>score</th>\n",
       "    </tr>\n",
       "  </thead>\n",
       "  <tbody>\n",
       "  </tbody>\n",
       "</table>\n",
       "</div>"
      ],
      "text/plain": [
       "Empty DataFrame\n",
       "Columns: [row_id, series_id, step, event, score]\n",
       "Index: []"
      ]
     },
     "execution_count": 11,
     "metadata": {},
     "output_type": "execute_result"
    }
   ],
   "source": [
    "file_root = '/kaggle/input/child-mind-institute-detect-sleep-states/test_series.parquet'\n",
    "series_id  = pd.read_parquet(file_root, columns=['series_id'])\n",
    "series_id = series_id.series_id.unique()\n",
    "submit_columns = ['series_id','step','event','score']\n",
    "submission = []\n",
    "for _id in series_id:\n",
    "    test_tmp = get_events(_id, model,file_root)\n",
    "    test_tmp = test_tmp[submit_columns]\n",
    "    submission.append(test_tmp)\n",
    "submission = pd.concat(submission, ignore_index=True).reset_index(names='row_id')\n",
    "submission.to_csv('submission.csv', index=False)\n",
    "submission"
   ]
  },
  {
   "cell_type": "code",
   "execution_count": 12,
   "id": "0973df82",
   "metadata": {
    "execution": {
     "iopub.execute_input": "2023-10-19T03:33:31.897861Z",
     "iopub.status.busy": "2023-10-19T03:33:31.895998Z",
     "iopub.status.idle": "2023-10-19T03:33:31.901227Z",
     "shell.execute_reply": "2023-10-19T03:33:31.900525Z"
    },
    "papermill": {
     "duration": 0.014319,
     "end_time": "2023-10-19T03:33:31.903089",
     "exception": false,
     "start_time": "2023-10-19T03:33:31.888770",
     "status": "completed"
    },
    "tags": []
   },
   "outputs": [],
   "source": [
    "# submit_columns = ['series_id','step','event','score','timestamp']\n",
    "# valid_sub = []\n",
    "# valid_series_ids = series_ids[31:]\n",
    "# for _id in tqdm(valid_series_ids):\n",
    "#     valid_tmp = get_events(_id, model,file_root = '/kaggle/input/zzzs-lightweight-training-dataset-target/Zzzs_train.parquet')\n",
    "#     valid_tmp = valid_tmp[submit_columns]\n",
    "#     valid_sub.append(valid_tmp)\n",
    "# valid_sub = pd.concat(valid_sub, ignore_index=True).reset_index(names='row_id')\n",
    "# valid_sub"
   ]
  },
  {
   "cell_type": "code",
   "execution_count": null,
   "id": "771b3fe4",
   "metadata": {
    "execution": {
     "iopub.execute_input": "2023-10-19T01:53:57.022118Z",
     "iopub.status.busy": "2023-10-19T01:53:57.021750Z",
     "iopub.status.idle": "2023-10-19T01:53:57.035298Z",
     "shell.execute_reply": "2023-10-19T01:53:57.034124Z",
     "shell.execute_reply.started": "2023-10-19T01:53:57.022085Z"
    },
    "papermill": {
     "duration": 0.005407,
     "end_time": "2023-10-19T03:33:31.913941",
     "exception": false,
     "start_time": "2023-10-19T03:33:31.908534",
     "status": "completed"
    },
    "tags": []
   },
   "outputs": [],
   "source": []
  },
  {
   "cell_type": "code",
   "execution_count": null,
   "id": "952d6324",
   "metadata": {
    "papermill": {
     "duration": 0.0052,
     "end_time": "2023-10-19T03:33:31.924648",
     "exception": false,
     "start_time": "2023-10-19T03:33:31.919448",
     "status": "completed"
    },
    "tags": []
   },
   "outputs": [],
   "source": []
  }
 ],
 "metadata": {
  "kernelspec": {
   "display_name": "Python 3",
   "language": "python",
   "name": "python3"
  },
  "language_info": {
   "codemirror_mode": {
    "name": "ipython",
    "version": 3
   },
   "file_extension": ".py",
   "mimetype": "text/x-python",
   "name": "python",
   "nbconvert_exporter": "python",
   "pygments_lexer": "ipython3",
   "version": "3.10.12"
  },
  "papermill": {
   "default_parameters": {},
   "duration": 127.160085,
   "end_time": "2023-10-19T03:33:33.152599",
   "environment_variables": {},
   "exception": null,
   "input_path": "__notebook__.ipynb",
   "output_path": "__notebook__.ipynb",
   "parameters": {},
   "start_time": "2023-10-19T03:31:25.992514",
   "version": "2.4.0"
  }
 },
 "nbformat": 4,
 "nbformat_minor": 5
}
