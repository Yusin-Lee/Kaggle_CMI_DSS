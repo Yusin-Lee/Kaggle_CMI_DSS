{
 "cells": [
  {
   "cell_type": "code",
   "execution_count": 1,
   "id": "bb724e79",
   "metadata": {
    "_cell_guid": "b1076dfc-b9ad-4769-8c92-a6c4dae69d19",
    "_uuid": "8f2839f25d086af736a60e9eeb907d3b93b6e0e5",
    "execution": {
     "iopub.execute_input": "2023-10-18T03:45:13.739093Z",
     "iopub.status.busy": "2023-10-18T03:45:13.738767Z",
     "iopub.status.idle": "2023-10-18T03:45:19.622257Z",
     "shell.execute_reply": "2023-10-18T03:45:19.621279Z"
    },
    "papermill": {
     "duration": 5.891931,
     "end_time": "2023-10-18T03:45:19.624677",
     "exception": false,
     "start_time": "2023-10-18T03:45:13.732746",
     "status": "completed"
    },
    "tags": []
   },
   "outputs": [],
   "source": [
    "import numpy as np\n",
    "import pandas as pd\n",
    "import torch\n",
    "import gc\n",
    "from sklearn.metrics import f1_score,accuracy_score\n",
    "import matplotlib.pyplot as plt\n",
    "from tqdm import tqdm\n",
    "import copy\n",
    "import lightgbm\n",
    "from sklearn.metrics import f1_score, accuracy_score\n",
    "import warnings\n",
    "warnings.filterwarnings(\"ignore\")\n",
    "\n",
    "device = 'cuda' if torch.cuda.is_available() else 'cpu'"
   ]
  },
  {
   "cell_type": "code",
   "execution_count": 2,
   "id": "0b1090b0",
   "metadata": {
    "execution": {
     "iopub.execute_input": "2023-10-18T03:45:19.639251Z",
     "iopub.status.busy": "2023-10-18T03:45:19.638792Z",
     "iopub.status.idle": "2023-10-18T03:45:19.647564Z",
     "shell.execute_reply": "2023-10-18T03:45:19.645663Z"
    },
    "papermill": {
     "duration": 0.019127,
     "end_time": "2023-10-18T03:45:19.650177",
     "exception": false,
     "start_time": "2023-10-18T03:45:19.631050",
     "status": "completed"
    },
    "tags": []
   },
   "outputs": [],
   "source": [
    "def data_preprocessing(df, window):\n",
    "    df[f'anglez_bf_{window}_std'] = df.anglez.rolling(window).std()\n",
    "    df[f'anglez_at_{window}_std'] = df.anglez.iloc[::-1].rolling(window).std().sort_index()\n",
    "    df[f'anglez_bf_{window}_mean'] = df.anglez.rolling(window).mean()\n",
    "    df[f'anglez_at_{window}_mean'] = df.anglez.iloc[::-1].rolling(window).mean().sort_index()\n",
    "    df[f'enmo_bf_{window}_std'] = df.enmo.rolling(window).std()\n",
    "    df[f'enmo_at_{window}_std'] = df.enmo.iloc[::-1].rolling(window).std().sort_index()\n",
    "    df[f'enmo_bf_{window}_mean'] = df.enmo.rolling(window).mean()\n",
    "    df[f'enmo_at_{window}_mean'] = df.enmo.iloc[::-1].rolling(window).mean().sort_index()\n",
    "    df.dropna(inplace=True)\n",
    "    df.reset_index(drop=True,inplace=True)\n",
    "    return df"
   ]
  },
  {
   "cell_type": "code",
   "execution_count": 3,
   "id": "81985260",
   "metadata": {
    "execution": {
     "iopub.execute_input": "2023-10-18T03:45:19.661843Z",
     "iopub.status.busy": "2023-10-18T03:45:19.660686Z",
     "iopub.status.idle": "2023-10-18T03:45:21.685219Z",
     "shell.execute_reply": "2023-10-18T03:45:21.684321Z"
    },
    "papermill": {
     "duration": 2.032227,
     "end_time": "2023-10-18T03:45:21.687585",
     "exception": false,
     "start_time": "2023-10-18T03:45:19.655358",
     "status": "completed"
    },
    "tags": []
   },
   "outputs": [],
   "source": [
    "series_ids = pd.read_parquet('/kaggle/input/zzzs-lightweight-training-dataset-target/Zzzs_train.parquet', columns=['series_id'])\n",
    "series_ids = series_ids.series_id.unique()"
   ]
  },
  {
   "cell_type": "code",
   "execution_count": 4,
   "id": "dccc4e7e",
   "metadata": {
    "execution": {
     "iopub.execute_input": "2023-10-18T03:45:21.697222Z",
     "iopub.status.busy": "2023-10-18T03:45:21.696624Z",
     "iopub.status.idle": "2023-10-18T03:45:57.918890Z",
     "shell.execute_reply": "2023-10-18T03:45:57.917876Z"
    },
    "papermill": {
     "duration": 36.22976,
     "end_time": "2023-10-18T03:45:57.921312",
     "exception": false,
     "start_time": "2023-10-18T03:45:21.691552",
     "status": "completed"
    },
    "tags": []
   },
   "outputs": [
    {
     "name": "stderr",
     "output_type": "stream",
     "text": [
      "100%|██████████| 30/30 [00:35<00:00,  1.19s/it]\n"
     ]
    }
   ],
   "source": [
    "train_series_ids = series_ids[:30]\n",
    "train_x = pd.DataFrame(columns = ['anglez', 'enmo', 'anglez_bf_30_std', 'anglez_at_30_std',\n",
    "       'anglez_bf_30_mean', 'anglez_at_30_mean', 'enmo_bf_30_std',\n",
    "       'enmo_at_30_std', 'enmo_bf_30_mean', 'enmo_at_30_mean'])\n",
    "train_y = pd.DataFrame(columns = ['awake'])\n",
    "for _id in tqdm(train_series_ids):\n",
    "    train_df_tmp = pd.read_parquet(\"/kaggle/input/zzzs-lightweight-training-dataset-target/Zzzs_train.parquet\", filters=[('series_id','=',_id)], columns = ['anglez', 'enmo', 'awake'])\n",
    "    train_df_tmp.anglez = (train_df_tmp.anglez + 8.8104) / 35.5218\n",
    "    train_df_tmp.enmo = (train_df_tmp.enmo - 0.0413) / 0.1018\n",
    "    train_df_tmp = data_preprocessing(train_df_tmp, 30)\n",
    "    train_x = pd.concat([train_x, train_df_tmp.drop('awake', axis=1)])\n",
    "    train_y = pd.concat([train_y, train_df_tmp[['awake']]])\n",
    "train_x.reset_index(drop=True, inplace=True)\n",
    "train_y.reset_index(drop=True, inplace=True)\n",
    "train_y['awake'] = train_y['awake'].astype(int)"
   ]
  },
  {
   "cell_type": "code",
   "execution_count": 5,
   "id": "f8f7a9ec",
   "metadata": {
    "execution": {
     "iopub.execute_input": "2023-10-18T03:45:57.934249Z",
     "iopub.status.busy": "2023-10-18T03:45:57.933899Z",
     "iopub.status.idle": "2023-10-18T03:46:01.459368Z",
     "shell.execute_reply": "2023-10-18T03:46:01.458505Z"
    },
    "papermill": {
     "duration": 3.534288,
     "end_time": "2023-10-18T03:46:01.461214",
     "exception": false,
     "start_time": "2023-10-18T03:45:57.926926",
     "status": "completed"
    },
    "tags": []
   },
   "outputs": [
    {
     "name": "stderr",
     "output_type": "stream",
     "text": [
      "100%|██████████| 4/4 [00:03<00:00,  1.15it/s]\n"
     ]
    }
   ],
   "source": [
    "valid_series_ids = series_ids[31:]\n",
    "valid_x = pd.DataFrame(columns = ['anglez', 'enmo', 'anglez_bf_30_std', 'anglez_at_30_std',\n",
    "       'anglez_bf_30_mean', 'anglez_at_30_mean', 'enmo_bf_30_std',\n",
    "       'enmo_at_30_std', 'enmo_bf_30_mean', 'enmo_at_30_mean'])\n",
    "valid_y = pd.DataFrame(columns = ['awake'])\n",
    "for _id in tqdm(valid_series_ids):\n",
    "    valid_df_tmp = pd.read_parquet(\"/kaggle/input/zzzs-lightweight-training-dataset-target/Zzzs_train.parquet\", filters=[('series_id','=',_id)], columns = ['anglez', 'enmo', 'awake'])\n",
    "    valid_df_tmp.anglez = (valid_df_tmp.anglez + 8.8104) / 35.5218\n",
    "    valid_df_tmp.enmo = (valid_df_tmp.enmo - 0.0413) / 0.1018\n",
    "    valid_df_tmp = data_preprocessing(valid_df_tmp, 30)\n",
    "    valid_x = pd.concat([valid_x, valid_df_tmp.drop('awake', axis=1)])\n",
    "    valid_y = pd.concat([valid_y, valid_df_tmp[['awake']]])\n",
    "valid_x.reset_index(drop=True, inplace=True)\n",
    "valid_y.reset_index(drop=True, inplace=True)\n",
    "valid_y['awake'] = valid_y['awake'].astype(int)"
   ]
  },
  {
   "cell_type": "code",
   "execution_count": 6,
   "id": "906f8a4b",
   "metadata": {
    "execution": {
     "iopub.execute_input": "2023-10-18T03:46:01.475372Z",
     "iopub.status.busy": "2023-10-18T03:46:01.474264Z",
     "iopub.status.idle": "2023-10-18T03:47:04.067814Z",
     "shell.execute_reply": "2023-10-18T03:47:04.066562Z"
    },
    "papermill": {
     "duration": 62.603322,
     "end_time": "2023-10-18T03:47:04.070507",
     "exception": false,
     "start_time": "2023-10-18T03:46:01.467185",
     "status": "completed"
    },
    "tags": []
   },
   "outputs": [
    {
     "name": "stdout",
     "output_type": "stream",
     "text": [
      "[2]\tvalid_0's auc: 0.978607\tvalid_0's binary_logloss: 0.582542\n",
      "[4]\tvalid_0's auc: 0.980683\tvalid_0's binary_logloss: 0.521073\n",
      "[6]\tvalid_0's auc: 0.982441\tvalid_0's binary_logloss: 0.470365\n",
      "[8]\tvalid_0's auc: 0.982683\tvalid_0's binary_logloss: 0.427902\n",
      "[10]\tvalid_0's auc: 0.982932\tvalid_0's binary_logloss: 0.391908\n",
      "[12]\tvalid_0's auc: 0.98301\tvalid_0's binary_logloss: 0.361129\n",
      "[14]\tvalid_0's auc: 0.983175\tvalid_0's binary_logloss: 0.334347\n",
      "[16]\tvalid_0's auc: 0.983327\tvalid_0's binary_logloss: 0.311199\n",
      "[18]\tvalid_0's auc: 0.983404\tvalid_0's binary_logloss: 0.291113\n",
      "[20]\tvalid_0's auc: 0.983459\tvalid_0's binary_logloss: 0.273457\n",
      "[22]\tvalid_0's auc: 0.983591\tvalid_0's binary_logloss: 0.257984\n",
      "[24]\tvalid_0's auc: 0.983647\tvalid_0's binary_logloss: 0.244588\n",
      "[26]\tvalid_0's auc: 0.983858\tvalid_0's binary_logloss: 0.23255\n",
      "[28]\tvalid_0's auc: 0.983934\tvalid_0's binary_logloss: 0.221933\n",
      "[30]\tvalid_0's auc: 0.984073\tvalid_0's binary_logloss: 0.212395\n",
      "[32]\tvalid_0's auc: 0.984116\tvalid_0's binary_logloss: 0.204099\n",
      "[34]\tvalid_0's auc: 0.984174\tvalid_0's binary_logloss: 0.196684\n",
      "[36]\tvalid_0's auc: 0.984219\tvalid_0's binary_logloss: 0.190134\n",
      "[38]\tvalid_0's auc: 0.984418\tvalid_0's binary_logloss: 0.184163\n",
      "[40]\tvalid_0's auc: 0.984473\tvalid_0's binary_logloss: 0.178808\n",
      "[42]\tvalid_0's auc: 0.984522\tvalid_0's binary_logloss: 0.174183\n",
      "[44]\tvalid_0's auc: 0.984642\tvalid_0's binary_logloss: 0.169984\n",
      "[46]\tvalid_0's auc: 0.984706\tvalid_0's binary_logloss: 0.16614\n",
      "[48]\tvalid_0's auc: 0.984739\tvalid_0's binary_logloss: 0.162823\n",
      "[50]\tvalid_0's auc: 0.98486\tvalid_0's binary_logloss: 0.15973\n",
      "[52]\tvalid_0's auc: 0.984851\tvalid_0's binary_logloss: 0.157081\n",
      "[54]\tvalid_0's auc: 0.984891\tvalid_0's binary_logloss: 0.154709\n",
      "[56]\tvalid_0's auc: 0.984905\tvalid_0's binary_logloss: 0.152617\n",
      "[58]\tvalid_0's auc: 0.984949\tvalid_0's binary_logloss: 0.150749\n",
      "[60]\tvalid_0's auc: 0.984971\tvalid_0's binary_logloss: 0.148947\n",
      "[62]\tvalid_0's auc: 0.985007\tvalid_0's binary_logloss: 0.147377\n",
      "[64]\tvalid_0's auc: 0.985033\tvalid_0's binary_logloss: 0.145954\n",
      "[66]\tvalid_0's auc: 0.985067\tvalid_0's binary_logloss: 0.144705\n",
      "[68]\tvalid_0's auc: 0.985087\tvalid_0's binary_logloss: 0.143657\n",
      "[70]\tvalid_0's auc: 0.985098\tvalid_0's binary_logloss: 0.142729\n",
      "[72]\tvalid_0's auc: 0.985216\tvalid_0's binary_logloss: 0.141634\n",
      "[74]\tvalid_0's auc: 0.985245\tvalid_0's binary_logloss: 0.140659\n",
      "[76]\tvalid_0's auc: 0.985524\tvalid_0's binary_logloss: 0.139908\n",
      "[78]\tvalid_0's auc: 0.985741\tvalid_0's binary_logloss: 0.139089\n",
      "[80]\tvalid_0's auc: 0.985819\tvalid_0's binary_logloss: 0.138463\n",
      "[82]\tvalid_0's auc: 0.98591\tvalid_0's binary_logloss: 0.137749\n",
      "[84]\tvalid_0's auc: 0.985938\tvalid_0's binary_logloss: 0.137139\n",
      "[86]\tvalid_0's auc: 0.986036\tvalid_0's binary_logloss: 0.136542\n",
      "[88]\tvalid_0's auc: 0.986086\tvalid_0's binary_logloss: 0.136031\n",
      "[90]\tvalid_0's auc: 0.986094\tvalid_0's binary_logloss: 0.135596\n",
      "[92]\tvalid_0's auc: 0.986076\tvalid_0's binary_logloss: 0.135162\n",
      "[94]\tvalid_0's auc: 0.986109\tvalid_0's binary_logloss: 0.134791\n",
      "[96]\tvalid_0's auc: 0.986115\tvalid_0's binary_logloss: 0.134365\n",
      "[98]\tvalid_0's auc: 0.986146\tvalid_0's binary_logloss: 0.13404\n",
      "[100]\tvalid_0's auc: 0.986187\tvalid_0's binary_logloss: 0.133639\n"
     ]
    },
    {
     "data": {
      "text/html": [
       "<style>#sk-container-id-1 {color: black;background-color: white;}#sk-container-id-1 pre{padding: 0;}#sk-container-id-1 div.sk-toggleable {background-color: white;}#sk-container-id-1 label.sk-toggleable__label {cursor: pointer;display: block;width: 100%;margin-bottom: 0;padding: 0.3em;box-sizing: border-box;text-align: center;}#sk-container-id-1 label.sk-toggleable__label-arrow:before {content: \"▸\";float: left;margin-right: 0.25em;color: #696969;}#sk-container-id-1 label.sk-toggleable__label-arrow:hover:before {color: black;}#sk-container-id-1 div.sk-estimator:hover label.sk-toggleable__label-arrow:before {color: black;}#sk-container-id-1 div.sk-toggleable__content {max-height: 0;max-width: 0;overflow: hidden;text-align: left;background-color: #f0f8ff;}#sk-container-id-1 div.sk-toggleable__content pre {margin: 0.2em;color: black;border-radius: 0.25em;background-color: #f0f8ff;}#sk-container-id-1 input.sk-toggleable__control:checked~div.sk-toggleable__content {max-height: 200px;max-width: 100%;overflow: auto;}#sk-container-id-1 input.sk-toggleable__control:checked~label.sk-toggleable__label-arrow:before {content: \"▾\";}#sk-container-id-1 div.sk-estimator input.sk-toggleable__control:checked~label.sk-toggleable__label {background-color: #d4ebff;}#sk-container-id-1 div.sk-label input.sk-toggleable__control:checked~label.sk-toggleable__label {background-color: #d4ebff;}#sk-container-id-1 input.sk-hidden--visually {border: 0;clip: rect(1px 1px 1px 1px);clip: rect(1px, 1px, 1px, 1px);height: 1px;margin: -1px;overflow: hidden;padding: 0;position: absolute;width: 1px;}#sk-container-id-1 div.sk-estimator {font-family: monospace;background-color: #f0f8ff;border: 1px dotted black;border-radius: 0.25em;box-sizing: border-box;margin-bottom: 0.5em;}#sk-container-id-1 div.sk-estimator:hover {background-color: #d4ebff;}#sk-container-id-1 div.sk-parallel-item::after {content: \"\";width: 100%;border-bottom: 1px solid gray;flex-grow: 1;}#sk-container-id-1 div.sk-label:hover label.sk-toggleable__label {background-color: #d4ebff;}#sk-container-id-1 div.sk-serial::before {content: \"\";position: absolute;border-left: 1px solid gray;box-sizing: border-box;top: 0;bottom: 0;left: 50%;z-index: 0;}#sk-container-id-1 div.sk-serial {display: flex;flex-direction: column;align-items: center;background-color: white;padding-right: 0.2em;padding-left: 0.2em;position: relative;}#sk-container-id-1 div.sk-item {position: relative;z-index: 1;}#sk-container-id-1 div.sk-parallel {display: flex;align-items: stretch;justify-content: center;background-color: white;position: relative;}#sk-container-id-1 div.sk-item::before, #sk-container-id-1 div.sk-parallel-item::before {content: \"\";position: absolute;border-left: 1px solid gray;box-sizing: border-box;top: 0;bottom: 0;left: 50%;z-index: -1;}#sk-container-id-1 div.sk-parallel-item {display: flex;flex-direction: column;z-index: 1;position: relative;background-color: white;}#sk-container-id-1 div.sk-parallel-item:first-child::after {align-self: flex-end;width: 50%;}#sk-container-id-1 div.sk-parallel-item:last-child::after {align-self: flex-start;width: 50%;}#sk-container-id-1 div.sk-parallel-item:only-child::after {width: 0;}#sk-container-id-1 div.sk-dashed-wrapped {border: 1px dashed gray;margin: 0 0.4em 0.5em 0.4em;box-sizing: border-box;padding-bottom: 0.4em;background-color: white;}#sk-container-id-1 div.sk-label label {font-family: monospace;font-weight: bold;display: inline-block;line-height: 1.2em;}#sk-container-id-1 div.sk-label-container {text-align: center;}#sk-container-id-1 div.sk-container {/* jupyter's `normalize.less` sets `[hidden] { display: none; }` but bootstrap.min.css set `[hidden] { display: none !important; }` so we also need the `!important` here to be able to override the default hidden behavior on the sphinx rendered scikit-learn.org. See: https://github.com/scikit-learn/scikit-learn/issues/21755 */display: inline-block !important;position: relative;}#sk-container-id-1 div.sk-text-repr-fallback {display: none;}</style><div id=\"sk-container-id-1\" class=\"sk-top-container\"><div class=\"sk-text-repr-fallback\"><pre>LGBMClassifier(learning_rate=0.05, max_depth=5, random_state=42)</pre><b>In a Jupyter environment, please rerun this cell to show the HTML representation or trust the notebook. <br />On GitHub, the HTML representation is unable to render, please try loading this page with nbviewer.org.</b></div><div class=\"sk-container\" hidden><div class=\"sk-item\"><div class=\"sk-estimator sk-toggleable\"><input class=\"sk-toggleable__control sk-hidden--visually\" id=\"sk-estimator-id-1\" type=\"checkbox\" checked><label for=\"sk-estimator-id-1\" class=\"sk-toggleable__label sk-toggleable__label-arrow\">LGBMClassifier</label><div class=\"sk-toggleable__content\"><pre>LGBMClassifier(learning_rate=0.05, max_depth=5, random_state=42)</pre></div></div></div></div></div>"
      ],
      "text/plain": [
       "LGBMClassifier(learning_rate=0.05, max_depth=5, random_state=42)"
      ]
     },
     "execution_count": 6,
     "metadata": {},
     "output_type": "execute_result"
    }
   ],
   "source": [
    "model = lightgbm.LGBMClassifier(random_state=42, max_depth=5,learning_rate=0.05, n_estimators=100)\n",
    "model.fit(train_x,train_y, eval_set = (valid_x,valid_y),eval_metric='auc',verbose=2)"
   ]
  },
  {
   "cell_type": "code",
   "execution_count": 7,
   "id": "07e9afa6",
   "metadata": {
    "execution": {
     "iopub.execute_input": "2023-10-18T03:47:04.089191Z",
     "iopub.status.busy": "2023-10-18T03:47:04.088862Z",
     "iopub.status.idle": "2023-10-18T03:47:04.092826Z",
     "shell.execute_reply": "2023-10-18T03:47:04.091665Z"
    },
    "papermill": {
     "duration": 0.015912,
     "end_time": "2023-10-18T03:47:04.094925",
     "exception": false,
     "start_time": "2023-10-18T03:47:04.079013",
     "status": "completed"
    },
    "tags": []
   },
   "outputs": [],
   "source": [
    "# preds = model.predict(test_x)"
   ]
  },
  {
   "cell_type": "code",
   "execution_count": 8,
   "id": "013adfa8",
   "metadata": {
    "execution": {
     "iopub.execute_input": "2023-10-18T03:47:04.113728Z",
     "iopub.status.busy": "2023-10-18T03:47:04.113370Z",
     "iopub.status.idle": "2023-10-18T03:47:04.117171Z",
     "shell.execute_reply": "2023-10-18T03:47:04.116292Z"
    },
    "papermill": {
     "duration": 0.015411,
     "end_time": "2023-10-18T03:47:04.118994",
     "exception": false,
     "start_time": "2023-10-18T03:47:04.103583",
     "status": "completed"
    },
    "tags": []
   },
   "outputs": [],
   "source": [
    "# print('f1_score : ',f1_score(valid_y.values, preds))\n",
    "# print('accuracy :' , accuracy_score(valid_y.values, preds))"
   ]
  },
  {
   "cell_type": "code",
   "execution_count": 9,
   "id": "b8c9a2b1",
   "metadata": {
    "execution": {
     "iopub.execute_input": "2023-10-18T03:47:04.138396Z",
     "iopub.status.busy": "2023-10-18T03:47:04.137794Z",
     "iopub.status.idle": "2023-10-18T03:47:04.141413Z",
     "shell.execute_reply": "2023-10-18T03:47:04.140623Z"
    },
    "papermill": {
     "duration": 0.015933,
     "end_time": "2023-10-18T03:47:04.143528",
     "exception": false,
     "start_time": "2023-10-18T03:47:04.127595",
     "status": "completed"
    },
    "tags": []
   },
   "outputs": [],
   "source": [
    "# onset : 5 ~ 18 not_normal\n",
    "# wakeup : 00 ~ 03, 12 ~ 23 not_noraml"
   ]
  },
  {
   "cell_type": "code",
   "execution_count": 10,
   "id": "946d2db8",
   "metadata": {
    "execution": {
     "iopub.execute_input": "2023-10-18T03:47:04.163429Z",
     "iopub.status.busy": "2023-10-18T03:47:04.162730Z",
     "iopub.status.idle": "2023-10-18T03:47:04.172657Z",
     "shell.execute_reply": "2023-10-18T03:47:04.171800Z"
    },
    "papermill": {
     "duration": 0.022732,
     "end_time": "2023-10-18T03:47:04.174846",
     "exception": false,
     "start_time": "2023-10-18T03:47:04.152114",
     "status": "completed"
    },
    "tags": []
   },
   "outputs": [],
   "source": [
    "def get_events(_id, model,file_root = None):\n",
    "    test = pd.read_parquet(f\"{file_root}\", filters=[('series_id','=',_id)])\n",
    "    test['timestamp'] = pd.to_datetime(test['timestamp']).apply(lambda t: t.tz_localize(None))\n",
    "    test['hour'] = test['timestamp'].dt.hour\n",
    "    test.anglez = (test.anglez + 8.8104) / 35.5218\n",
    "    test.enmo = (test.enmo - 0.0413) / 0.1018\n",
    "    test = data_preprocessing(test,30)\n",
    "    test.dropna(inplace=True)\n",
    "    test.reset_index(drop=True,inplace=True)\n",
    "    test_x = test[train_x.columns]\n",
    "    preds, probs = model.predict(test_x), model.predict_proba(test_x)[:, 1]\n",
    "    test['prediction'] = preds\n",
    "    test['prediction'] = test['prediction'].rolling(360+1, center=True).median()\n",
    "    test['probability'] = probs\n",
    "    test = test[test['prediction']!=2]\n",
    "    test.loc[test['prediction']==0, 'probability'] = 1-test.loc[test['prediction']==0, 'probability']\n",
    "    test['score'] = test['probability'].rolling(60*12*5, center=True, min_periods=10).mean().bfill().ffill()\n",
    "    test['pred_diff'] = test['prediction'].diff()\n",
    "    test['event'] = test['pred_diff'].replace({1:'wakeup', -1:'onset', 0:np.nan})\n",
    "    test_wakeup = test[test['event']=='wakeup'].groupby(test['timestamp'].dt.date).agg('first')\n",
    "    test_onset = test[test['event']=='onset'].groupby(test['timestamp'].dt.date).agg('last')\n",
    "    test = pd.concat([test_wakeup, test_onset], ignore_index=True).sort_values('timestamp')\n",
    "    return test"
   ]
  },
  {
   "cell_type": "code",
   "execution_count": 11,
   "id": "302299f2",
   "metadata": {
    "execution": {
     "iopub.execute_input": "2023-10-18T03:47:04.194574Z",
     "iopub.status.busy": "2023-10-18T03:47:04.193870Z",
     "iopub.status.idle": "2023-10-18T03:47:04.359099Z",
     "shell.execute_reply": "2023-10-18T03:47:04.358310Z"
    },
    "papermill": {
     "duration": 0.177677,
     "end_time": "2023-10-18T03:47:04.361330",
     "exception": false,
     "start_time": "2023-10-18T03:47:04.183653",
     "status": "completed"
    },
    "tags": []
   },
   "outputs": [
    {
     "data": {
      "text/html": [
       "<div>\n",
       "<style scoped>\n",
       "    .dataframe tbody tr th:only-of-type {\n",
       "        vertical-align: middle;\n",
       "    }\n",
       "\n",
       "    .dataframe tbody tr th {\n",
       "        vertical-align: top;\n",
       "    }\n",
       "\n",
       "    .dataframe thead th {\n",
       "        text-align: right;\n",
       "    }\n",
       "</style>\n",
       "<table border=\"1\" class=\"dataframe\">\n",
       "  <thead>\n",
       "    <tr style=\"text-align: right;\">\n",
       "      <th></th>\n",
       "      <th>row_id</th>\n",
       "      <th>series_id</th>\n",
       "      <th>step</th>\n",
       "      <th>event</th>\n",
       "      <th>score</th>\n",
       "    </tr>\n",
       "  </thead>\n",
       "  <tbody>\n",
       "  </tbody>\n",
       "</table>\n",
       "</div>"
      ],
      "text/plain": [
       "Empty DataFrame\n",
       "Columns: [row_id, series_id, step, event, score]\n",
       "Index: []"
      ]
     },
     "execution_count": 11,
     "metadata": {},
     "output_type": "execute_result"
    }
   ],
   "source": [
    "file_root = '/kaggle/input/child-mind-institute-detect-sleep-states/test_series.parquet'\n",
    "series_id  = pd.read_parquet(file_root, columns=['series_id'])\n",
    "series_id = series_id.series_id.unique()\n",
    "submit_columns = ['series_id','step','event','score']\n",
    "submission = []\n",
    "for _id in series_id:\n",
    "    test_tmp = get_events(_id, model,file_root)\n",
    "    test_tmp = test_tmp[submit_columns]\n",
    "    submission.append(test_tmp)\n",
    "submission = pd.concat(submission, ignore_index=True).reset_index(names='row_id')\n",
    "submission.to_csv('submission.csv', index=False)\n",
    "submission"
   ]
  },
  {
   "cell_type": "code",
   "execution_count": 12,
   "id": "30f63960",
   "metadata": {
    "execution": {
     "iopub.execute_input": "2023-10-18T03:47:04.380584Z",
     "iopub.status.busy": "2023-10-18T03:47:04.380178Z",
     "iopub.status.idle": "2023-10-18T03:47:04.384631Z",
     "shell.execute_reply": "2023-10-18T03:47:04.383493Z"
    },
    "papermill": {
     "duration": 0.016591,
     "end_time": "2023-10-18T03:47:04.386648",
     "exception": false,
     "start_time": "2023-10-18T03:47:04.370057",
     "status": "completed"
    },
    "tags": []
   },
   "outputs": [],
   "source": [
    "# submit_columns = ['series_id','step','event','score']\n",
    "# valid_sub = []\n",
    "# valid_series_ids = series_ids[31:]\n",
    "# for _id in tqdm(valid_series_ids):\n",
    "#     valid_tmp = get_events(_id, model,file_root = '/kaggle/input/zzzs-lightweight-training-dataset-target/Zzzs_train.parquet')\n",
    "#     valid_tmp = valid_tmp[submit_columns]\n",
    "#     valid_sub.append(valid_tmp)\n",
    "# valid_sub = pd.concat(valid_sub, ignore_index=True).reset_index(names='row_id')\n",
    "# valid_sub"
   ]
  },
  {
   "cell_type": "code",
   "execution_count": 13,
   "id": "6040a280",
   "metadata": {
    "execution": {
     "iopub.execute_input": "2023-10-18T03:47:04.405678Z",
     "iopub.status.busy": "2023-10-18T03:47:04.405287Z",
     "iopub.status.idle": "2023-10-18T03:47:04.409631Z",
     "shell.execute_reply": "2023-10-18T03:47:04.408557Z"
    },
    "papermill": {
     "duration": 0.016237,
     "end_time": "2023-10-18T03:47:04.411642",
     "exception": false,
     "start_time": "2023-10-18T03:47:04.395405",
     "status": "completed"
    },
    "tags": []
   },
   "outputs": [],
   "source": [
    "# uqid = submission.series_id.unique()"
   ]
  },
  {
   "cell_type": "code",
   "execution_count": 14,
   "id": "4f6bba49",
   "metadata": {
    "execution": {
     "iopub.execute_input": "2023-10-18T03:47:04.430454Z",
     "iopub.status.busy": "2023-10-18T03:47:04.430066Z",
     "iopub.status.idle": "2023-10-18T03:47:04.434649Z",
     "shell.execute_reply": "2023-10-18T03:47:04.433547Z"
    },
    "papermill": {
     "duration": 0.016349,
     "end_time": "2023-10-18T03:47:04.436651",
     "exception": false,
     "start_time": "2023-10-18T03:47:04.420302",
     "status": "completed"
    },
    "tags": []
   },
   "outputs": [],
   "source": [
    "# submission[submission['series_id'] == uqid[1]]"
   ]
  },
  {
   "cell_type": "code",
   "execution_count": 15,
   "id": "c1e37018",
   "metadata": {
    "execution": {
     "iopub.execute_input": "2023-10-18T03:47:04.455414Z",
     "iopub.status.busy": "2023-10-18T03:47:04.454994Z",
     "iopub.status.idle": "2023-10-18T03:47:04.459584Z",
     "shell.execute_reply": "2023-10-18T03:47:04.458543Z"
    },
    "papermill": {
     "duration": 0.016505,
     "end_time": "2023-10-18T03:47:04.461694",
     "exception": false,
     "start_time": "2023-10-18T03:47:04.445189",
     "status": "completed"
    },
    "tags": []
   },
   "outputs": [],
   "source": [
    "# submission_exception[submission_exception['series_id'] == uqid[1]]"
   ]
  },
  {
   "cell_type": "code",
   "execution_count": null,
   "id": "a9f7a991",
   "metadata": {
    "papermill": {
     "duration": 0.008499,
     "end_time": "2023-10-18T03:47:04.479064",
     "exception": false,
     "start_time": "2023-10-18T03:47:04.470565",
     "status": "completed"
    },
    "tags": []
   },
   "outputs": [],
   "source": []
  }
 ],
 "metadata": {
  "kernelspec": {
   "display_name": "Python 3",
   "language": "python",
   "name": "python3"
  },
  "language_info": {
   "codemirror_mode": {
    "name": "ipython",
    "version": 3
   },
   "file_extension": ".py",
   "mimetype": "text/x-python",
   "name": "python",
   "nbconvert_exporter": "python",
   "pygments_lexer": "ipython3",
   "version": "3.10.12"
  },
  "papermill": {
   "default_parameters": {},
   "duration": 114.936742,
   "end_time": "2023-10-18T03:47:05.710712",
   "environment_variables": {},
   "exception": null,
   "input_path": "__notebook__.ipynb",
   "output_path": "__notebook__.ipynb",
   "parameters": {},
   "start_time": "2023-10-18T03:45:10.773970",
   "version": "2.4.0"
  }
 },
 "nbformat": 4,
 "nbformat_minor": 5
}
